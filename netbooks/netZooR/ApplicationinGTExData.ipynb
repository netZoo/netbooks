{
 "cells": [
  {
   "cell_type": "markdown",
   "metadata": {},
   "source": [
    "# Building PANDA and LIONESS Regulatory Networks from GTEx Gene Expression Data in R\n",
    "Author: Deborah Weighill<sup>1</sup>\n",
    "\n",
    "<sup>1</sup> Department of Biostatistics, Harvard T.H. Chan School of Public Health, Boston, MA."
   ]
  },
  {
   "cell_type": "markdown",
   "metadata": {
    "lines_to_next_cell": 0
   },
   "source": [
    "# 1. Introduction\n",
    "\n",
    "This case study demonstrates the use of PANDA<sup>1</sup> and LIONESS<sup>2</sup> through the netZooR package. It follows the same steps as a [previous tutorial](../netZooR/panda_gtex_tutorial_server.ipynb) that builds and compares gene regulatory networks between cell lines (LCL) and their tissues of origin (whole blood)<sup>3</sup> using GTEx gene expression collection of \"normal\", undiseased human tissues. We will first start by building a gene regualtory network for LCL cell lines, then whole blood and visualize the largest edges in the network. Then, we will build gene regualtory networks for each cell in LCL data set using LIONESS<sup>2</sup>. In addition to these differences to the previous tutorial, we will use the faster Python implementation of PANDA and LIONESS that we can bind to R through `reticulate` and deomonstrate how these functions can be called.\n",
    "\n",
    "This analysis can be ran on the server or locally by setting the following parameter."
   ]
  },
  {
   "cell_type": "code",
   "execution_count": null,
   "metadata": {},
   "outputs": [],
   "source": [
    "runserver=1"
   ]
  },
  {
   "cell_type": "markdown",
   "metadata": {},
   "source": [
    "We need to set the paths for data in the server"
   ]
  },
  {
   "cell_type": "code",
   "execution_count": null,
   "metadata": {},
   "outputs": [],
   "source": [
    "if (runserver==1){\n",
    "    ppath='/opt/data/'\n",
    "}else if(runserver==0){\n",
    "    ppath=''\n",
    "}"
   ]
  },
  {
   "cell_type": "markdown",
   "metadata": {},
   "source": [
    "In addition, some sections of the case study can requires some time to run, therefore, we can set this parameter to load precomputed data."
   ]
  },
  {
   "cell_type": "code",
   "execution_count": null,
   "metadata": {},
   "outputs": [],
   "source": [
    "precomputed=1"
   ]
  },
  {
   "cell_type": "markdown",
   "metadata": {},
   "source": [
    "# 1. PANDA\n",
    "\n",
    "## 1.1. PANDA Overview\n",
    "PANDA<sup>1</sup> (Passing Attributes between Networks for Data Assimilation) is a method for constructing gene regulatory networks. It uses message passing to find congruence between 3 different data layers: protein-protein interaction (PPI), gene expression, and transcription factor (TF) motif data.\n",
    "\n",
    "More details can be found in the published [paper](https://doi.org/10.1371/journal.pone.0064832)<sup>1</sup>.\n",
    "\n",
    "## 1.2. Running a single PANDA analysis\n",
    "\n"
   ]
  },
  {
   "cell_type": "markdown",
   "metadata": {},
   "source": [
    "If this notebook is ran locally, we need to install some packages"
   ]
  },
  {
   "cell_type": "code",
   "execution_count": null,
   "metadata": {},
   "outputs": [],
   "source": [
    "if(runserver==0){\n",
    "    install.packages(\"visNetwork\",repos = \"http://cran.us.r-project.org\",dependencies=TRUE)\n",
    "}"
   ]
  },
  {
   "cell_type": "markdown",
   "metadata": {},
   "source": [
    "Then, we start by loading the following libraries. We use the `data.table` library for reading in large datasets as it is more efficient."
   ]
  },
  {
   "cell_type": "code",
   "execution_count": null,
   "metadata": {
    "message": false,
    "warning": false
   },
   "outputs": [],
   "source": [
    "library(netZooR)    # To load PANDA and LIONESS\n",
    "library(data.table) # To load data \n",
    "library(visNetwork) # To visualize the networks"
   ]
  },
  {
   "cell_type": "markdown",
   "metadata": {},
   "source": [
    "Now, we need to bind R to Python since we are calling PANDA and LIONESS from Python because netZooPy has an optimized implementation of PANDA. If you want to use a pure R version, [this tutorial](../netZooR/panda_gtex_tutorial_server.ipynb) has an example for a PANDA analysis. However, it is only necessary when we're working locally. On this Jupyter notebook server, we just need to tell R where to find Python using the `py_config()` command, which also serves to check the installation."
   ]
  },
  {
   "cell_type": "code",
   "execution_count": null,
   "metadata": {},
   "outputs": [],
   "source": [
    "py_config()"
   ]
  },
  {
   "cell_type": "markdown",
   "metadata": {},
   "source": [
    "To do the Python binding locally, you need to point R to your python 3 installation."
   ]
  },
  {
   "cell_type": "markdown",
   "metadata": {},
   "source": [
    "```\n",
    "use_python(\"/usr/bin/python3\")\n",
    "```"
   ]
  },
  {
   "cell_type": "markdown",
   "metadata": {},
   "source": [
    "Make sure that this is the installation that has all the required python libraries (numpy, scipy, and pandas) installed."
   ]
  },
  {
   "cell_type": "code",
   "execution_count": null,
   "metadata": {},
   "outputs": [],
   "source": [
    "py_require(c('pandas','scipy','joblib'))"
   ]
  },
  {
   "cell_type": "markdown",
   "metadata": {
    "lines_to_next_cell": 0
   },
   "source": [
    "Now we locate our PPI and motif priors. The PPI represents physical interactions between transcription factor proteins, and is an undirected network. The motif prior represents putative regulation events where a transcription factor binds in the promotor of a gene to regulate its expression, as predicted by the presence of transcription factor binding motifs in the promotor region of the gene. The motif prior is thus a directed network linking transcription factors to their predicted gene targets. These are small example priors for the purposes of demonstrating this method. \n",
    "\n",
    "The PPI and motif priors are available in our AWS public bucket, and can be downloaded into current working directory.\n",
    "\n",
    "Let's download and take a look at the priors:"
   ]
  },
  {
   "cell_type": "code",
   "execution_count": null,
   "metadata": {},
   "outputs": [],
   "source": [
    "if(runserver==0){\n",
    "    system(\"curl -O  https://netzoo.s3.us-east-2.amazonaws.com/netZooR/tutorial_datasets/motif_GTEx.txt\")\n",
    "    system(\"curl -O  https://netzoo.s3.us-east-2.amazonaws.com/netZooR/tutorial_datasets/ppi_GTEx.txt\")\n",
    "}"
   ]
  },
  {
   "cell_type": "markdown",
   "metadata": {},
   "source": [
    "The motif data has three columns representing the source TF and the target gene and the presence or absence of TF motif in the promoter region of the target gene."
   ]
  },
  {
   "cell_type": "code",
   "execution_count": null,
   "metadata": {
    "message": false
   },
   "outputs": [],
   "source": [
    "motif <- read.table(paste0(ppath,\"motif_GTEx.txt\")) \n",
    "motif[1:5,]"
   ]
  },
  {
   "cell_type": "markdown",
   "metadata": {},
   "source": [
    "PPI data has interactions between 2 TFs in the 2 first columns and an edge weight between 0 and 1 in the third column, that represent the strength of interaction between the TFs."
   ]
  },
  {
   "cell_type": "code",
   "execution_count": null,
   "metadata": {},
   "outputs": [],
   "source": [
    "ppi <- read.table(paste0(ppath,\"ppi_GTEx.txt\"))\n",
    "ppi[1:5,]"
   ]
  },
  {
   "cell_type": "markdown",
   "metadata": {
    "lines_to_next_cell": 0
   },
   "source": [
    "Now we locate gene expression data. \n",
    "\n",
    "As example, We will use a portion of the GTEx (Genotype-Tissue Expression)<sup>4</sup> version 7 RNA-Seq data, read in the expression data and the list of LCL samples. Then parse the expression data.\n",
    "\n",
    "We can either \n",
    "\n",
    "1) downlaod the file GTEx_Analysis_2016-01-15_v7_RNASeQCv1.1.8_gene_tpm.gct from from https://gtexportal.org/home/datasets or in our AWS bucket and place it in the folder \"expressionData\". We will initially use the LCL RNA-seq data to create a regulatory network for this cell line. Later, we will also generate a regulatory network for whole blood for comaprison. \n",
    "\n",
    "Here, we use the expression data and sample ids file copy from our AWS bucket. First, we download gene expression data for local runs."
   ]
  },
  {
   "cell_type": "code",
   "execution_count": null,
   "metadata": {},
   "outputs": [],
   "source": [
    "if(runserver==0){\n",
    "    system(\"curl -O  https://netzoo.s3.us-east-2.amazonaws.com/netZooR/tutorial_datasets/GTEx_Analysis_2016-01-15_v7_RNASeQCv1.1.8_gene_tpm.gct\")\n",
    "}"
   ]
  },
  {
   "cell_type": "markdown",
   "metadata": {},
   "source": [
    "Since this gene expression file has LCL and whole blood data combined, we need to build separate data matrices for each type by filtering sample IDs. Samples IDs can be downloaded as follows:"
   ]
  },
  {
   "cell_type": "code",
   "execution_count": null,
   "metadata": {},
   "outputs": [],
   "source": [
    "if(runserver==0){\n",
    "    system(\"curl -O  https://netzoo.s3.us-east-2.amazonaws.com/netZooR/tutorial_datasets/LCL_samples.txt\")\n",
    "}"
   ]
  },
  {
   "cell_type": "markdown",
   "metadata": {},
   "source": [
    "Next, gene expression data is processed by removing the trascript IDs from gene names to match the gene names in the motif data, filtering LCL samples, and finalyy keep the genes with at least 20 gene expression samples."
   ]
  },
  {
   "cell_type": "code",
   "execution_count": null,
   "metadata": {
    "eval": false
   },
   "outputs": [],
   "source": [
    "if(precomputed==0){\n",
    "    # load the GTEx expression matrix\n",
    "    expr <- fread(paste0(ppath,\"GTEx_Analysis_2016-01-15_v7_RNASeQCv1.1.8_gene_tpm.gct\"), header = TRUE, skip = 2, data.table = TRUE)\n",
    "    # remove the transcript ids so that the genes match the gene ids in the tf-motif prior\n",
    "    expr$Name<-sub(\"\\\\.[0-9]\",\"\", expr$Name)\n",
    "\n",
    "    #load the sample ids of LCL samples\n",
    "    lcl_samples <-fread(paste0(ppath,\"LCL_samples.txt\"), header = FALSE, data.table=FALSE)\n",
    "\n",
    "    #select the columns of the expression matrix corresponding to the LCL samples.\n",
    "    lcl_expr <- expr[,union(\"Name\",intersect(c(lcl_samples[1:149,]),colnames(expr))), with=FALSE]\n",
    "\n",
    "    #determine the number of non-NA/non-zero rows in the expression data. This is to be able to ensure that PANDA will have enough values in the vectors to calculate pearson correlations between gene expression profiles in the construction of the gene co-exression prior.\n",
    "    zero_na_counts <- apply(lcl_expr, MARGIN = 1, FUN = function(x) length(x[(!is.na(x)| x!=0) ]))\n",
    "\n",
    "    #maintain only genes with at least 20 valid gene expression entries\n",
    "    clean_data <- lcl_expr[zero_na_counts > 20,]\n",
    "\n",
    "    #write the cleaned expression data to a file, ready to be passed as an argument to the PANDA algorithm.\n",
    "    write.table(clean_data, file = \"../data/pandaExprLCL.txt\", sep = \"\\t\", col.names = FALSE, row.names = FALSE, quote = FALSE)\n",
    "}"
   ]
  },
  {
   "cell_type": "markdown",
   "metadata": {
    "lines_to_next_cell": 0
   },
   "source": [
    "Alternatively, the pre-processed data `pandaExprLCL.txt` can be downloaded from the netZoo AWS S3 Bucket."
   ]
  },
  {
   "cell_type": "code",
   "execution_count": null,
   "metadata": {
    "message": false,
    "warning": false
   },
   "outputs": [],
   "source": [
    "if(precomputed==1){\n",
    "    system(\"curl -O  https://netzoo.s3.us-east-2.amazonaws.com/netZooR/tutorial_datasets/pandaExprLCL.txt\")\n",
    "}"
   ]
  },
  {
   "cell_type": "markdown",
   "metadata": {
    "lines_to_next_cell": 0
   },
   "source": [
    "Now we run PANDA, pointing it to the parsed expression data, motif prior, and PPI prior. `modeProcess` determines the way that TF and gene names are handled across the three input priors. If set to `legacy`, gene names will be taken from gene expression data and TF names will be taken from motif data. `remove_missing` removes any TF and gene that is not present across all three data types."
   ]
  },
  {
   "cell_type": "code",
   "execution_count": null,
   "metadata": {
    "message": false,
    "warning": false
   },
   "outputs": [],
   "source": [
    "panda_results_LCL <- pandaPy(expr_file = paste0(ppath,\"pandaExprLCL.txt\") , motif_file = paste0(ppath,\"motif_GTEx.txt\"), ppi_file = paste0(ppath,\"ppi_GTEx.txt\"), modeProcess=\"legacy\", remove_missing = TRUE)"
   ]
  },
  {
   "cell_type": "markdown",
   "metadata": {},
   "source": [
    "Let's take a look at the results. The output contains a list of three data frames:\n",
    "\n",
    "First, a data frame containing the regulatory network (bipartite graph) with edge weights representing the \"likelihood\" that a transcription factor binds the promotor of and regulates the expression of a gene.   "
   ]
  },
  {
   "cell_type": "code",
   "execution_count": null,
   "metadata": {},
   "outputs": [],
   "source": [
    "regNetLCL <- panda_results_LCL$panda\n",
    "regNetLCL[1:5,]"
   ]
  },
  {
   "cell_type": "markdown",
   "metadata": {},
   "source": [
    "Second, a data frame of the in-degrees of genes (sum of the weights of inbound edges around a gene). These are also called gene targeting scores<sup>5</sup>."
   ]
  },
  {
   "cell_type": "code",
   "execution_count": null,
   "metadata": {},
   "outputs": [],
   "source": [
    "inDegreeLCL <- panda_results_LCL$indegree\n",
    "head(inDegreeLCL)"
   ]
  },
  {
   "cell_type": "markdown",
   "metadata": {},
   "source": [
    "Third, a data frame of the out-degrees of TFs (sum of the weights of outbound edges around a TF) or TF targeting scores."
   ]
  },
  {
   "cell_type": "code",
   "execution_count": null,
   "metadata": {},
   "outputs": [],
   "source": [
    "outDegreeLCL <- panda_results_LCL$outdegree\n",
    "head(outDegreeLCL)"
   ]
  },
  {
   "cell_type": "markdown",
   "metadata": {
    "lines_to_next_cell": 0
   },
   "source": [
    "## 1.3. Run another PANDA analysis on Whole Blood Samples\n",
    "\n",
    "In this section, we will build a PANDA gene regulatory network on whole blood samples. Like the LCL expression data in previous section, we can either download the raw data and process or load a pre-processed data set. Since, we downloaded the combined LCL and whole blood gene expression data in the previous section, here, we only need to download the sample names for whole blood samples."
   ]
  },
  {
   "cell_type": "code",
   "execution_count": null,
   "metadata": {},
   "outputs": [],
   "source": [
    "if(runserver==0){\n",
    "    system(\"curl -O https://netzoo.s3.us-east-2.amazonaws.com/netZooR/tutorial_datasets/WholeBlood_samples.txt\")\n",
    "}"
   ]
  },
  {
   "cell_type": "markdown",
   "metadata": {},
   "source": [
    "Then, we follow the same steps to remove transcript id from gene names, filter whole blood samples, and select genes that have at least 20 sample measurments."
   ]
  },
  {
   "cell_type": "code",
   "execution_count": null,
   "metadata": {
    "eval": false
   },
   "outputs": [],
   "source": [
    "if(precomputed==0){\n",
    "    #load the sample ids of Whole Blood samples\n",
    "    wblood_samples <-fread(paste0(ppath,\"WholeBlood_samples.txt\"), header = FALSE, data.table=FALSE)\n",
    "\n",
    "    #select the columns of the expression matrix corresponding to the LCL samples.\n",
    "    wblood_expr <- expr[,union(\"Name\",intersect(c(wblood_samples[1:149,]),colnames(expr))), with=FALSE]\n",
    "\n",
    "    #determine the number of non-NA/non-zero rows in the expression data. This is to be able to ensure that PANDA will have enough values in the vectors to calculate pearson correlations between gene expression profiles in the construction of the gene co-exression prior.\n",
    "    zero_na_counts_wblood <- apply(wblood_expr, MARGIN = 1, FUN = function(x) length(x[(!is.na(x)| x!=0) ]))\n",
    "\n",
    "    #maintain only genes with at least 20 valid gene expression entries\n",
    "    clean_data_wb <- wblood_expr[zero_na_counts_wblood > 20,]\n",
    "\n",
    "    #write the cleaned expression data to a file, ready to be passed as an argument to the PANDA algorithm.\n",
    "    write.table(clean_data_wb, file = \"../data/pandaExprWholeBlood.txt\", sep = \"\\t\", col.names = FALSE, row.names = FALSE, quote = FALSE)\n",
    "}"
   ]
  },
  {
   "cell_type": "markdown",
   "metadata": {
    "lines_to_next_cell": 0
   },
   "source": [
    "Alternatively, we can download the processed whole blood expression data directly from the netZoo AWS Bucket."
   ]
  },
  {
   "cell_type": "code",
   "execution_count": null,
   "metadata": {
    "message": false,
    "warning": false
   },
   "outputs": [],
   "source": [
    "if(precomputed==1){\n",
    "    system(\"curl -O https://netzoo.s3.us-east-2.amazonaws.com/netZooR/tutorial_datasets/pandaExprWholeBlood.txt\")\n",
    "}"
   ]
  },
  {
   "cell_type": "markdown",
   "metadata": {},
   "source": [
    "Using this gene expression matrix, and the generic PPI and motif networks, we can now call PANDA using the same parameters as for LCL cell lines."
   ]
  },
  {
   "cell_type": "code",
   "execution_count": null,
   "metadata": {
    "warning": false
   },
   "outputs": [],
   "source": [
    "panda_results_wblood <- pandaPy(expr_file = paste0(ppath,\"pandaExprWholeBlood.txt\") , motif_file = paste0(ppath,\"motif_GTEx.txt\"), ppi_file = paste0(ppath,\"ppi_GTEx.txt\"), modeProcess=\"legacy\", remove_missing = TRUE)"
   ]
  },
  {
   "cell_type": "markdown",
   "metadata": {},
   "source": [
    "We can visualize the whole blood gene regulatory network using `visNetwork` library which requires defining an `edges` data frame that contains the edges in the network."
   ]
  },
  {
   "cell_type": "code",
   "execution_count": null,
   "metadata": {},
   "outputs": [],
   "source": [
    "edges <- head(panda_results_wblood$panda[order(panda_results_wblood$panda$Score,decreasing = TRUE),], 500)\n",
    "edges$arrows = \"to\" \n",
    "colnames(edges) <- c(\"from\",\"to\",\"motif\",\"force\",\"arrows\")"
   ]
  },
  {
   "cell_type": "markdown",
   "metadata": {},
   "source": [
    "And a `nodes` data frame that has information about the nodes in the network."
   ]
  },
  {
   "cell_type": "code",
   "execution_count": null,
   "metadata": {},
   "outputs": [],
   "source": [
    "nodes <- data.frame(id = unique(as.vector(as.matrix(edges[,c(1,2)]))) , \n",
    "                    label=unique(as.vector(as.matrix(edges[,c(1,2)]))))\n",
    "nodes$group <- ifelse(nodes$id %in% edges$from, \"TF\", \"gene\")"
   ]
  },
  {
   "cell_type": "markdown",
   "metadata": {},
   "source": [
    "Finally, we plot the network, with TF in green squares and genes in yellow circles."
   ]
  },
  {
   "cell_type": "code",
   "execution_count": null,
   "metadata": {
    "eval": false
   },
   "outputs": [],
   "source": [
    "net <- visNetwork(nodes, edges, width = \"100%\")\n",
    "net <- visGroups(net, groupname = \"TF\", shape = \"square\",\n",
    "                     color = list(background = \"teal\", border=\"black\"))\n",
    "net <- visGroups(net, groupname = \"gene\", shape = \"dot\",       \n",
    "                     color = list(background = \"gold\", border=\"black\"))\n",
    "visLegend(net, main=\"Legend\", position=\"right\", ncol=1) "
   ]
  },
  {
   "cell_type": "markdown",
   "metadata": {},
   "source": [
    "# 2. Single-sample inference using LIONESS\n",
    "\n",
    "LIONESS (Linear Interpolation to Obtain Network Estimates for Single Samples) is a method for creating sample-specific networks<sup>2</sup>, using an aggregate network inference method like PANDA or coexpression networks. When applied to a PANDA regulatory network, the result is a set of gene regulatory networks, one for each sample in the gene expression dataset. More information on LIONESS<sup>2</sup> can be found in the published (paper)[https://doi.org/10.1016/j.isci.2019.03.021].\n",
    "\n",
    "Running LIONESS with netZoo is simple, and very similar to running PANDA:"
   ]
  },
  {
   "cell_type": "code",
   "execution_count": null,
   "metadata": {
    "echo": true,
    "tags": [
     "remove_output"
    ]
   },
   "outputs": [],
   "source": [
    "lionessLCL <- lionessPy(expr_file = paste0(ppath,\"pandaExprLCL.txt\") , motif_file = paste0(ppath,\"motif_GTEx.txt\"), ppi_file = paste0(ppath,\"ppi_GTEx.txt\"), modeProcess=\"legacy\", remove_missing = TRUE)"
   ]
  },
  {
   "cell_type": "markdown",
   "metadata": {},
   "source": [
    "LIONESS will ran PANDA first to build an aggregate network across all samples, then derives a PANDA network for each sample by linear interpolation."
   ]
  },
  {
   "cell_type": "code",
   "execution_count": null,
   "metadata": {
    "lines_to_next_cell": 0
   },
   "outputs": [],
   "source": [
    "lionessLCL[1:5,1:10]"
   ]
  },
  {
   "cell_type": "markdown",
   "metadata": {},
   "source": [
    " The result is a data frame in which the first colum  contains TFs, the second column contains genes and each subsequent column contains the edge weight for that particular TF-gene pair in a particular sample."
   ]
  },
  {
   "cell_type": "markdown",
   "metadata": {},
   "source": [
    "# References\n",
    "1 - Glass, Kimberly, et al. \"Passing messages between biological networks to refine predicted interactions.\" PloS one 8.5 (2013): e64832.\n",
    "\n",
    "2 - Kuijjer, Marieke Lydia, et al. \"Estimating sample-specific regulatory networks.\" Iscience 14 (2019): 226-240.\n",
    "\n",
    "3- Lopes-Ramos, Camila M., et al. \"Regulatory network changes between cell lines and their tissues of origin.\" BMC genomics 18.1 (2017): 1-13.\n",
    "\n",
    "4- GTEx Consortium, et al. \"The Genotype-Tissue Expression (GTEx) pilot analysis: Multitissue gene regulation in humans.\" Science 348.6235 (2015): 648-660.\n",
    "\n",
    "5- Weighill, Deborah, et al. \"Gene targeting in disease networks.\" Frontiers in Genetics 12 (2021): 501."
   ]
  }
 ],
 "metadata": {
  "jupytext": {
   "cell_metadata_filter": "message,eval,warning,tags,echo,-all",
   "main_language": "R",
   "notebook_metadata_filter": "-all"
  },
  "kernelspec": {
   "display_name": "RC1",
   "language": "R",
   "name": "rc1"
  },
  "language_info": {
   "codemirror_mode": "r",
   "file_extension": ".r",
   "mimetype": "text/x-r-source",
   "name": "R",
   "pygments_lexer": "r",
   "version": "4.1.1"
  }
 },
 "nbformat": 4,
 "nbformat_minor": 4
}
